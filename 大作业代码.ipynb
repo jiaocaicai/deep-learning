{
 "cells": [
  {
   "cell_type": "markdown",
   "id": "7e177fdc",
   "metadata": {},
   "source": [
    "# 查看数据情况"
   ]
  },
  {
   "cell_type": "code",
   "execution_count": 26,
   "id": "1aee2950",
   "metadata": {},
   "outputs": [
    {
     "name": "stdout",
     "output_type": "stream",
     "text": [
      "类别：[0, 1, 2, 3, 4, 5, 6, 7, 8, 9, 10, 11, 12, 13, 14, 15, 16, 17, 18, 19, 20, 21, 22, 23, 24, 25, 26, 27, 28, 29, 30, 31, 32, 33, 34, 35, 36, 37, 38, 39, 40, 41, 42, 43, 44, 45, 46, 47, 48, 49, 50, 51, 52, 53, 54, 55, 56, 57, 58, 59, 60, 61, 62, 63, 64, 65, 66, 67, 68, 69, 70, 71, 72, 73, 74, 75, 76, 77, 78, 79, 80, 81, 82, 83, 84, 85, 86, 87, 88, 89, 90, 91, 92, 93, 94, 95, 96, 97, 98, 99, 100, 101, 102, 103, 104, 105, 106, 107, 108, 109, 110, 111, 112, 113, 114, 115, 116, 117, 118]\n",
      "训练集的数据量：10000\n"
     ]
    },
    {
     "data": {
      "image/png": "[encoded data removed]",
      "text/plain": [
       "<Figure size 640x480 with 1 Axes>"
      ]
     },
     "metadata": {},
     "output_type": "display_data"
    }
   ],
   "source": [
    "with open('trains.json', 'r',encoding='utf-8') as f:\n",
    "    trains = json.load(f)\n",
    "\n",
    "labels = []\n",
    "sents = []\n",
    "for sent in trains:\n",
    "    labels.append(int(sent['label']))\n",
    "    sents.append(sent['sentence'])\n",
    " \n",
    "print(f'类别：{sorted(set(labels))}')\n",
    "print(f'训练集的数据量：{len(labels)}')\n",
    "import matplotlib.pyplot as plt\n",
    "plt.hist(np.array(labels),bins=119)\n",
    "plt.show()"
   ]
  },
  {
   "cell_type": "markdown",
   "id": "4fb2abda",
   "metadata": {},
   "source": [
    "共有119个类：0-118，类别分布不均匀"
   ]
  },
  {
   "cell_type": "code",
   "execution_count": null,
   "id": "7e60ea1b",
   "metadata": {},
   "outputs": [],
   "source": []
  },
  {
   "cell_type": "code",
   "execution_count": null,
   "id": "b83a9fa5",
   "metadata": {},
   "outputs": [],
   "source": []
  },
  {
   "cell_type": "markdown",
   "id": "09fb7a20",
   "metadata": {},
   "source": [
    "# 划分训练集和验证集"
   ]
  },
  {
   "cell_type": "code",
   "execution_count": 1,
   "id": "b48118af",
   "metadata": {},
   "outputs": [],
   "source": [
    "from sklearn.model_selection import train_test_split"
   ]
  },
  {
   "cell_type": "code",
   "execution_count": 2,
   "id": "f60c3dec",
   "metadata": {},
   "outputs": [],
   "source": [
    "with open('trains.json', 'r',encoding='utf-8') as f:\n",
    "    trains = json.load(f)"
   ]
  },
  {
   "cell_type": "code",
   "execution_count": 4,
   "id": "4374e10c",
   "metadata": {},
   "outputs": [],
   "source": [
    "X_train, X_validate = train_test_split(trains, test_size = 0.2, random_state = 42)"
   ]
  },
  {
   "cell_type": "code",
   "execution_count": 23,
   "id": "1a5f988a",
   "metadata": {},
   "outputs": [],
   "source": [
    "with open('./data/trains.json', 'w', encoding='utf-8') as json_file:\n",
    "    json.dump(X_train, json_file, ensure_ascii=False, indent=4)"
   ]
  },
  {
   "cell_type": "code",
   "execution_count": 24,
   "id": "37fba252",
   "metadata": {},
   "outputs": [],
   "source": [
    "with open('./data/validates.json', 'w', encoding='utf-8') as json_file:\n",
    "    json.dump(X_validate, json_file, ensure_ascii=False, indent=4)"
   ]
  },
  {
   "cell_type": "markdown",
   "id": "f49121ca",
   "metadata": {},
   "source": [
    "119个类别:0-118"
   ]
  },
  {
   "cell_type": "markdown",
   "id": "e447478d",
   "metadata": {},
   "source": [
    "# 分词"
   ]
  },
  {
   "cell_type": "code",
   "execution_count": 11,
   "id": "c9de3d1f",
   "metadata": {},
   "outputs": [],
   "source": [
    "import jieba\n",
    "import json\n",
    "\n",
    "with open('trains.json', 'r',encoding='utf-8') as f:\n",
    "    trains = json.load(f)\n",
    "    \n",
    "trains_data = [] #[[第一个句子的分词结果],[第二个句子的分词结果],...]\n",
    "for sent in trains:\n",
    "    fenci = jieba.cut(sent['sentence'],cut_all=False)\n",
    "    res=[]\n",
    "    for j in fenci:\n",
    "        res.append(j)\n",
    "    trains_data.append(res)"
   ]
  },
  {
   "cell_type": "code",
   "execution_count": 23,
   "id": "09d80ab1",
   "metadata": {},
   "outputs": [
    {
     "data": {
      "image/png": "[encoded data removed]",
      "text/plain": [
       "<Figure size 640x480 with 1 Axes>"
      ]
     },
     "metadata": {},
     "output_type": "display_data"
    },
    {
     "name": "stdout",
     "output_type": "stream",
     "text": [
      "336.0\n",
      "489.0100000000002\n"
     ]
    }
   ],
   "source": [
    "sents_len = []\n",
    "for sent in trains_data:\n",
    "    sents_len.append(len(sent))\n",
    "    \n",
    "import matplotlib.pyplot as plt\n",
    "import numpy as np\n",
    "plt.hist(np.array(sents_len),bins=20)\n",
    "plt.show() #大部分句子长度小于500\n",
    "\n",
    "print(np.percentile(sents_len, 95))\n",
    "print(np.percentile(sents_len, 99))"
   ]
  },
  {
   "cell_type": "markdown",
   "id": "39aec3b7",
   "metadata": {},
   "source": [
    "## 只获取前512个词的分词完整代码"
   ]
  },
  {
   "cell_type": "code",
   "execution_count": 27,
   "id": "6b6dccee",
   "metadata": {},
   "outputs": [],
   "source": [
    "import jieba\n",
    "import json\n",
    "\n",
    "# 10000条训练数据\n",
    "with open('trains.json', 'r',encoding='utf-8') as f:\n",
    "    trains = json.load(f)\n",
    "\n",
    "train_data = [] #[[第一个句子的分词结果],[第二个句子的分词结果],...]\n",
    "for sent in trains:\n",
    "    sentence = sent['sentence'] if len(sent['sentence'])<=512 else sent['sentence'][:512]  #保证句子长度小于等于512\n",
    "    fenci = jieba.cut(sentence,cut_all=False)\n",
    "    res=[]\n",
    "    for j in fenci:\n",
    "        res.append(j)\n",
    "    train_data.append(res)\n",
    "\n",
    "\n",
    "# 1425条测试数据\n",
    "with open('tests.json', 'r',encoding='utf-8') as f:\n",
    "    tests = json.load(f)\n",
    "\n",
    "test_data = [] #[[第一个句子的分词结果],[第二个句子的分词结果],...]\n",
    "for sent in tests:\n",
    "    sentence = sent['sentence'] if len(sent['sentence'])<=512 else sent['sentence'][:512]\n",
    "    fenci = jieba.cut(sentence,cut_all=False)\n",
    "    res=[]\n",
    "    for j in fenci:\n",
    "        res.append(j)\n",
    "    test_data.append(res)  "
   ]
  },
  {
   "cell_type": "code",
   "execution_count": null,
   "id": "63c819d9",
   "metadata": {},
   "outputs": [],
   "source": []
  },
  {
   "cell_type": "markdown",
   "id": "dd24d8a5",
   "metadata": {},
   "source": [
    "# 建立词表"
   ]
  },
  {
   "cell_type": "code",
   "execution_count": 28,
   "id": "9cd9710f",
   "metadata": {},
   "outputs": [],
   "source": [
    "import torch\n",
    "from vocab import Vocab\n",
    "vocab = Vocab.build(train_data+test_data)\n",
    "for i,sent in enumerate(trains):\n",
    "    train_data[i] = (vocab.convert_tokens_to_ids(train_data[i]), int(sent['label']))\n",
    "\n",
    "for i,sent in enumerate(tests):\n",
    "    test_data[i] = (vocab.convert_tokens_to_ids(test_data[i]), int(sent['label']))"
   ]
  },
  {
   "cell_type": "code",
   "execution_count": 29,
   "id": "131321a2",
   "metadata": {},
   "outputs": [
    {
     "data": {
      "text/plain": [
       "72587"
      ]
     },
     "execution_count": 29,
     "metadata": {},
     "output_type": "execute_result"
    }
   ],
   "source": [
    "len(vocab.token_to_idx) #词表的大小"
   ]
  },
  {
   "cell_type": "code",
   "execution_count": 30,
   "id": "f9b75c84",
   "metadata": {},
   "outputs": [
    {
     "name": "stdout",
     "output_type": "stream",
     "text": [
      "([1, 2, 3, 4, 5, 6, 7, 8, 9, 10, 11, 12, 2, 3, 13, 14, 15, 16, 17, 18, 19, 5, 6, 7, 20, 21, 22, 23, 24, 25, 26, 13, 27, 28, 29, 30, 31, 32, 33, 34, 35, 36, 37, 13, 38, 39, 40, 41, 42, 11, 43, 44, 45, 46, 47, 48, 49, 12, 50, 51, 52, 13, 53, 35, 50, 54, 55, 56, 57, 58, 12, 7, 20, 22, 40, 59, 12, 60, 47, 61, 62, 59, 63, 64, 65, 66, 13, 67, 47, 68, 69, 70, 71, 22, 72, 50, 35, 47, 49, 73, 13, 11, 74, 75, 15, 40, 65, 76, 40, 65, 77, 40, 58, 78, 49, 79, 13, 80, 81, 39, 82, 77, 83, 22, 84, 85, 86, 13, 11, 87, 88, 89, 90, 91, 92, 93, 3, 22, 94, 40, 95, 96, 97, 98, 12, 99, 22, 50, 49, 13, 100, 29, 44, 101, 102, 90, 103, 104, 50, 35, 4, 7, 53, 35, 54, 55, 7, 20, 51, 105, 106, 107, 13, 108, 109, 40, 110, 111, 112, 49, 79, 15, 40, 65, 76, 40, 65, 113, 40, 114, 115, 49, 79, 116, 117, 41, 118, 13, 11, 119, 120, 4, 15, 121, 119, 122, 15, 123, 124, 11, 13, 125, 126, 121, 127, 13, 128, 82, 7, 20, 62, 129, 130, 131, 132, 133, 12, 119, 39, 62, 13, 129, 13, 134, 135, 63, 136, 62, 13, 61, 59, 137, 138, 139, 140, 141, 140, 142, 63, 143, 144, 11, 145, 146, 147, 148, 149, 141, 140, 142, 150, 34, 35, 36, 37, 13, 38, 39, 40, 41, 151, 150, 152, 65, 153, 154, 155, 156, 157, 103, 158, 159, 65, 51, 160, 153, 161], 11)\n"
     ]
    }
   ],
   "source": [
    "print(train_data[0])"
   ]
  },
  {
   "cell_type": "code",
   "execution_count": 24,
   "id": "ede08cc0",
   "metadata": {},
   "outputs": [],
   "source": [
    "# %run utils.py\n",
    "# train_data, test_data, vocab = load_sentence()"
   ]
  },
  {
   "cell_type": "markdown",
   "id": "805159da",
   "metadata": {},
   "source": [
    "# MLP"
   ]
  },
  {
   "cell_type": "code",
   "execution_count": null,
   "id": "0859369f",
   "metadata": {},
   "outputs": [],
   "source": []
  },
  {
   "cell_type": "markdown",
   "id": "2cd9b5b7",
   "metadata": {},
   "source": [
    "## 创建数据集"
   ]
  },
  {
   "cell_type": "code",
   "execution_count": 32,
   "id": "847f0085",
   "metadata": {},
   "outputs": [],
   "source": [
    "import torch\n",
    "from torch import nn, optim\n",
    "from torch.nn import functional as F\n",
    "from torch.utils.data import Dataset, DataLoader\n",
    "from collections import defaultdict\n",
    "from vocab import Vocab\n",
    "from utils import load_sentence"
   ]
  },
  {
   "cell_type": "code",
   "execution_count": 33,
   "id": "eff6cc0b",
   "metadata": {},
   "outputs": [],
   "source": [
    "class BowDataset(Dataset):\n",
    "    def __init__(self, data): #data为原始的数据\n",
    "        self.data = data\n",
    "    def __len__(self):\n",
    "        return len(self.data)\n",
    "    def __getitem__(self, i):\n",
    "        return self.data[i]"
   ]
  },
  {
   "cell_type": "code",
   "execution_count": 34,
   "id": "002ef52c",
   "metadata": {},
   "outputs": [],
   "source": [
    "#%run utils.py\n",
    "#train_data, test_data, vocab = load_sentence()\n",
    "train_dataset = BowDataset(train_data) #BowDataset是Dataset的子类\n",
    "test_dataset = BowDataset(test_data)"
   ]
  },
  {
   "cell_type": "code",
   "execution_count": 35,
   "id": "3656d559",
   "metadata": {},
   "outputs": [],
   "source": [
    "def collate_fn(examples):\n",
    "    # 从独立样本集合中构建各批次的输入输出\n",
    "    # 其中，BowDatasete类定义了一个样本的数据结构，即输入标签和输出标签的元组\n",
    "    # 因此，将输入inputs定义为一个张量的列表，其中每个张量为原始句子中标记序列对应的索引值序列ex[0]\n",
    "    inputs = [torch.tensor(ex[0]) for ex in examples]\n",
    "    # 输出目标targets为该批次中全部样例输出结果（0或1）构成的张量\n",
    "    targets = torch.tensor([ex[1] for ex in examples], dtype=torch.long)\n",
    "    offsets = [0] + [i.shape[0] for i in inputs]\n",
    "    offsets = torch.tensor(offsets[:-1]).cumsum(dim=0)  #获取一个批次中每个序列的偏移量\n",
    "    inputs = torch.cat(inputs)\n",
    "    return inputs, offsets, targets"
   ]
  },
  {
   "cell_type": "code",
   "execution_count": 36,
   "id": "05d3cc56",
   "metadata": {},
   "outputs": [],
   "source": [
    "batch_size = 32\n",
    "train_data_loader = DataLoader(train_dataset, batch_size=batch_size, collate_fn=collate_fn, shuffle=True)\n",
    "test_data_loader = DataLoader(test_dataset, batch_size=1, collate_fn=collate_fn, shuffle=False)"
   ]
  },
  {
   "cell_type": "markdown",
   "id": "30fa9d0a",
   "metadata": {},
   "source": [
    "## 模型"
   ]
  },
  {
   "cell_type": "code",
   "execution_count": 37,
   "id": "bc110e21",
   "metadata": {},
   "outputs": [],
   "source": [
    "class MLP(nn.Module):\n",
    "    def __init__(self, vocab_size, embedding_dim, hidden_dim, num_class):\n",
    "        super(MLP, self).__init__()\n",
    "        self.embedding = nn.EmbeddingBag(vocab_size, embedding_dim)\n",
    "        self.linear1 = nn.Linear(embedding_dim, hidden_dim)\n",
    "        self.activate = F.relu\n",
    "        self.linear2 = nn.Linear(hidden_dim, num_class)\n",
    "    def forward(self, inputs, offsets):\n",
    "        embedding = self.embedding(inputs, offsets)\n",
    "        hidden = self.activate(self.linear1(embedding))\n",
    "        outputs = self.linear2(hidden)\n",
    "        log_probs = F.log_softmax(outputs, dim=1)\n",
    "        return log_probs"
   ]
  },
  {
   "cell_type": "code",
   "execution_count": 38,
   "id": "dd4de6f3",
   "metadata": {},
   "outputs": [
    {
     "data": {
      "text/plain": [
       "MLP(\n",
       "  (embedding): EmbeddingBag(72587, 128, mode=mean)\n",
       "  (linear1): Linear(in_features=128, out_features=256, bias=True)\n",
       "  (linear2): Linear(in_features=256, out_features=119, bias=True)\n",
       ")"
      ]
     },
     "execution_count": 38,
     "metadata": {},
     "output_type": "execute_result"
    }
   ],
   "source": [
    "from tqdm import *\n",
    "\n",
    "# 超参数设置\n",
    "embedding_dim = 128\n",
    "hidden_dim = 256\n",
    "num_class = 119\n",
    "batch_size = 32\n",
    "num_epoch = 5\n",
    "\n",
    "# 加载模型\n",
    "device = torch.device('cuda:0' if torch.cuda.is_available() else 'cpu')\n",
    "model = MLP(len(vocab), embedding_dim, hidden_dim, num_class)\n",
    "model.to(device) # 将模型加载到CPU或GPU设备"
   ]
  },
  {
   "cell_type": "code",
   "execution_count": 39,
   "id": "cdf99f8f",
   "metadata": {},
   "outputs": [
    {
     "name": "stderr",
     "output_type": "stream",
     "text": [
      "Training Epoch 0: 100%|██████████████████████████████████████████████████████████████| 313/313 [00:29<00:00, 10.71it/s]\n"
     ]
    },
    {
     "name": "stdout",
     "output_type": "stream",
     "text": [
      "Loss: 1166.87\n"
     ]
    },
    {
     "name": "stderr",
     "output_type": "stream",
     "text": [
      "Training Epoch 1: 100%|██████████████████████████████████████████████████████████████| 313/313 [00:24<00:00, 13.02it/s]\n"
     ]
    },
    {
     "name": "stdout",
     "output_type": "stream",
     "text": [
      "Loss: 892.86\n"
     ]
    },
    {
     "name": "stderr",
     "output_type": "stream",
     "text": [
      "Training Epoch 2: 100%|██████████████████████████████████████████████████████████████| 313/313 [00:24<00:00, 13.01it/s]\n"
     ]
    },
    {
     "name": "stdout",
     "output_type": "stream",
     "text": [
      "Loss: 713.25\n"
     ]
    },
    {
     "name": "stderr",
     "output_type": "stream",
     "text": [
      "Training Epoch 3: 100%|██████████████████████████████████████████████████████████████| 313/313 [00:24<00:00, 12.94it/s]\n"
     ]
    },
    {
     "name": "stdout",
     "output_type": "stream",
     "text": [
      "Loss: 582.00\n"
     ]
    },
    {
     "name": "stderr",
     "output_type": "stream",
     "text": [
      "Training Epoch 4: 100%|██████████████████████████████████████████████████████████████| 313/313 [00:24<00:00, 12.95it/s]"
     ]
    },
    {
     "name": "stdout",
     "output_type": "stream",
     "text": [
      "Loss: 476.12\n"
     ]
    },
    {
     "name": "stderr",
     "output_type": "stream",
     "text": [
      "\n"
     ]
    }
   ],
   "source": [
    "#训练过程\n",
    "nll_loss = nn.NLLLoss()\n",
    "optimizer = optim.Adam(model.parameters(), lr=0.001) # 使用Adam优化器\n",
    "\n",
    "model.train()\n",
    "for epoch in range(num_epoch):\n",
    "    total_loss = 0\n",
    "    for batch in tqdm(train_data_loader, desc=f\"Training Epoch {epoch}\"):\n",
    "        inputs, offsets, targets = [x.to(device) for x in batch]\n",
    "        #inputs, offsets, targets = [x for x in batch]\n",
    "        log_probs = model(inputs, offsets)\n",
    "        #print(log_probs)\n",
    "        #print(targets)\n",
    "        loss = nll_loss(log_probs, targets)\n",
    "        optimizer.zero_grad()\n",
    "        loss.backward()\n",
    "        optimizer.step()\n",
    "        total_loss += loss.item()\n",
    "    print(f\"Loss: {total_loss:.2f}\")"
   ]
  },
  {
   "cell_type": "code",
   "execution_count": 40,
   "id": "043155a2",
   "metadata": {},
   "outputs": [
    {
     "name": "stderr",
     "output_type": "stream",
     "text": [
      "Testing: 100%|████████████████████████████████████████████████████████████████████| 1425/1425 [00:02<00:00, 635.36it/s]"
     ]
    },
    {
     "name": "stdout",
     "output_type": "stream",
     "text": [
      "Acc: 0.46\n",
      "f1_macro:0.22\n",
      "f1_weighted:0.43\n",
      "f1_macro:0.22\n"
     ]
    },
    {
     "name": "stderr",
     "output_type": "stream",
     "text": [
      "\n"
     ]
    }
   ],
   "source": [
    "from sklearn.metrics import accuracy_score, f1_score\n",
    "import numpy as np\n",
    "# 测试过程\n",
    "acc = 0\n",
    "y_pred = np.array([]).astype(int)  #存储真实的target\n",
    "y_true = np.array([]).astype(int)  #存储预测出来的target\n",
    "for batch in tqdm(test_data_loader, desc=f\"Testing\"):\n",
    "    inputs, offsets, targets = [x.to(device) for x in batch]\n",
    "    #inputs, offsets, targets = [x for x in batch]\n",
    "    with torch.no_grad():\n",
    "        output = model(inputs, offsets)\n",
    "        y_pred = np.append(y_pred,output.argmax(dim=1).cpu().numpy()) #要先把数据放在cpu上，才能转成numpy\n",
    "        y_true = np.append(y_true,targets.cpu().numpy())\n",
    "        acc += (output.argmax(dim=1) == targets).sum().item()\n",
    "\n",
    "# 输出在测试集上的准确率\n",
    "print(f\"Acc: {acc / len(test_data_loader):.2f}\")\n",
    "print(f\"f1_macro:{f1_score(y_true,y_pred,average='macro'):.2f}\")\n",
    "print(f\"f1_weighted:{f1_score(y_true,y_pred,average='weighted'):.2f}\")\n",
    "print(f\"f1_macro:{f1_score(y_true,y_pred,average='macro'):.2f}\")"
   ]
  },
  {
   "cell_type": "markdown",
   "id": "f1cc5f47",
   "metadata": {},
   "source": [
    "# CNN"
   ]
  },
  {
   "cell_type": "markdown",
   "id": "2be1866f",
   "metadata": {},
   "source": [
    "## 创建数据集"
   ]
  },
  {
   "cell_type": "code",
   "execution_count": 16,
   "id": "ff0143ca",
   "metadata": {},
   "outputs": [],
   "source": [
    "import torch\n",
    "from torch import nn, optim\n",
    "from torch.nn import functional as F\n",
    "from torch.utils.data import Dataset, DataLoader\n",
    "from torch.nn.utils.rnn import pad_sequence\n",
    "from collections import defaultdict\n",
    "from vocab import Vocab\n",
    "from utils import load_sentence"
   ]
  },
  {
   "cell_type": "code",
   "execution_count": 17,
   "id": "e497035d",
   "metadata": {},
   "outputs": [],
   "source": [
    "class CnnDataset(Dataset):\n",
    "    def __init__(self, data):\n",
    "        self.data = data\n",
    "    def __len__(self):\n",
    "        return len(self.data)\n",
    "    def __getitem__(self, i):\n",
    "        return self.data[i]\n",
    "\n",
    "def collate_fn(examples):\n",
    "    inputs = [torch.tensor(ex[0]) for ex in examples]\n",
    "    targets = torch.tensor([ex[1] for ex in examples], dtype=torch.long)\n",
    "    # 对batch内的样本进行padding，使其具有相同长度\n",
    "    inputs = pad_sequence(inputs, batch_first=True)\n",
    "    return inputs, targets"
   ]
  },
  {
   "cell_type": "code",
   "execution_count": 18,
   "id": "236add1f",
   "metadata": {},
   "outputs": [],
   "source": [
    "#加载数据\n",
    "#%run utils.py\n",
    "#train_data, test_data, vocab = load_sentence() #MLP模型已经运行过了\n",
    "train_dataset = CnnDataset(train_data)\n",
    "test_dataset = CnnDataset(test_data)\n",
    "train_data_loader = DataLoader(train_dataset, batch_size=batch_size, collate_fn=collate_fn, shuffle=True)\n",
    "test_data_loader = DataLoader(test_dataset, batch_size=1, collate_fn=collate_fn, shuffle=False)"
   ]
  },
  {
   "cell_type": "markdown",
   "id": "da480c65",
   "metadata": {},
   "source": [
    "## 模型"
   ]
  },
  {
   "cell_type": "code",
   "execution_count": 19,
   "id": "3d9a2a30",
   "metadata": {},
   "outputs": [],
   "source": [
    "#tqdm是一个Pyth模块，能以进度条的方式显示迭代的进度\n",
    "from tqdm.auto import tqdm\n",
    "\n",
    "#超参数设置\n",
    "embedding_dim = 128\n",
    "hidden_dim = 256\n",
    "num_class = 119\n",
    "batch_size = 32\n",
    "num_epoch = 5\n",
    "filter_size = 3\n",
    "num_filter = 100"
   ]
  },
  {
   "cell_type": "code",
   "execution_count": 20,
   "id": "7781957b",
   "metadata": {},
   "outputs": [],
   "source": [
    "class CNN(nn.Module):\n",
    "    def __init__(self, vocab_size, embedding_dim, filter_size, num_filter, num_class):\n",
    "        super(CNN, self).__init__()\n",
    "        self.embedding = nn.Embedding(vocab_size, embedding_dim)\n",
    "        self.conv1d = nn.Conv1d(embedding_dim, num_filter, filter_size, padding=1)\n",
    "        self.activate = F.relu\n",
    "        self.linear = nn.Linear(num_filter, num_class)\n",
    "    def forward(self, inputs):\n",
    "        embedding = self.embedding(inputs)\n",
    "        convolution = self.activate(self.conv1d(embedding.permute(0, 2, 1))) #permute维度交换\n",
    "        pooling = F.max_pool1d(convolution, kernel_size=convolution.shape[2])\n",
    "        outputs = self.linear(pooling.squeeze(dim=2))\n",
    "        log_probs = F.log_softmax(outputs, dim=1)\n",
    "        return log_probs"
   ]
  },
  {
   "cell_type": "code",
   "execution_count": 21,
   "id": "f3b3aa22",
   "metadata": {},
   "outputs": [
    {
     "data": {
      "text/plain": [
       "CNN(\n",
       "  (embedding): Embedding(75040, 128)\n",
       "  (conv1d): Conv1d(128, 100, kernel_size=(3,), stride=(1,), padding=(1,))\n",
       "  (linear): Linear(in_features=100, out_features=119, bias=True)\n",
       ")"
      ]
     },
     "execution_count": 21,
     "metadata": {},
     "output_type": "execute_result"
    }
   ],
   "source": [
    "#加载模型\n",
    "device = torch.device('cuda' if torch.cuda.is_available() else 'cpu')\n",
    "model = CNN(len(vocab), embedding_dim, filter_size, num_filter, num_class)\n",
    "model.to(device) #将模型加载到CPU或GPU设备"
   ]
  },
  {
   "cell_type": "code",
   "execution_count": 22,
   "id": "53fff6cd",
   "metadata": {},
   "outputs": [
    {
     "name": "stderr",
     "output_type": "stream",
     "text": [
      "Training Epoch 0: 100%|██████████████████████████████████████████████████████████████| 313/313 [00:45<00:00,  6.81it/s]\n"
     ]
    },
    {
     "name": "stdout",
     "output_type": "stream",
     "text": [
      "Loss: 1159.36\n"
     ]
    },
    {
     "name": "stderr",
     "output_type": "stream",
     "text": [
      "Training Epoch 1: 100%|██████████████████████████████████████████████████████████████| 313/313 [00:35<00:00,  8.72it/s]\n"
     ]
    },
    {
     "name": "stdout",
     "output_type": "stream",
     "text": [
      "Loss: 904.12\n"
     ]
    },
    {
     "name": "stderr",
     "output_type": "stream",
     "text": [
      "Training Epoch 2: 100%|██████████████████████████████████████████████████████████████| 313/313 [00:31<00:00,  9.93it/s]\n"
     ]
    },
    {
     "name": "stdout",
     "output_type": "stream",
     "text": [
      "Loss: 736.30\n"
     ]
    },
    {
     "name": "stderr",
     "output_type": "stream",
     "text": [
      "Training Epoch 3: 100%|██████████████████████████████████████████████████████████████| 313/313 [00:31<00:00, 10.05it/s]\n"
     ]
    },
    {
     "name": "stdout",
     "output_type": "stream",
     "text": [
      "Loss: 598.61\n"
     ]
    },
    {
     "name": "stderr",
     "output_type": "stream",
     "text": [
      "Training Epoch 4: 100%|██████████████████████████████████████████████████████████████| 313/313 [00:31<00:00, 10.02it/s]"
     ]
    },
    {
     "name": "stdout",
     "output_type": "stream",
     "text": [
      "Loss: 471.81\n"
     ]
    },
    {
     "name": "stderr",
     "output_type": "stream",
     "text": [
      "\n"
     ]
    }
   ],
   "source": [
    "#训练过程\n",
    "nll_loss = nn.NLLLoss()\n",
    "optimizer = optim.Adam(model.parameters(), lr=0.001) #使用Adam优化器\n",
    "\n",
    "model.train()\n",
    "for epoch in range(num_epoch):\n",
    "    total_loss = 0\n",
    "    for batch in tqdm(train_data_loader, desc=f\"Training Epoch {epoch}\"):\n",
    "        inputs, targets = [x.to(device) for x in batch]\n",
    "        #inputs, targets = [x for x in batch]\n",
    "        log_probs = model(inputs)\n",
    "        loss = nll_loss(log_probs, targets)\n",
    "        optimizer.zero_grad()\n",
    "        loss.backward()\n",
    "        optimizer.step()\n",
    "        total_loss += loss.item()\n",
    "    print(f\"Loss: {total_loss:.2f}\")"
   ]
  },
  {
   "cell_type": "code",
   "execution_count": 44,
   "id": "146dca47",
   "metadata": {},
   "outputs": [
    {
     "name": "stderr",
     "output_type": "stream",
     "text": [
      "Testing: 100%|████████████████████████████████████████████████████████████████████| 1425/1425 [00:02<00:00, 579.29it/s]"
     ]
    },
    {
     "name": "stdout",
     "output_type": "stream",
     "text": [
      "Acc: 0.44\n"
     ]
    },
    {
     "name": "stderr",
     "output_type": "stream",
     "text": [
      "\n"
     ]
    }
   ],
   "source": [
    "#测试过程\n",
    "import numpy as np\n",
    "acc = 0\n",
    "y_pred = np.array([]).astype(int)  #存储真实的target\n",
    "y_true = np.array([]).astype(int)  #存储预测出来的target\n",
    "for batch in tqdm(test_data_loader, desc=f\"Testing\"):\n",
    "    inputs, targets = [x.to(device) for x in batch]\n",
    "    #inputs, targets = [x for x in batch]\n",
    "    with torch.no_grad():\n",
    "        output = model(inputs)\n",
    "        y_pred = np.append(y_pred,output.argmax(dim=1).cpu().numpy()) #要先把数据放在cpu上，才能转成numpy\n",
    "        y_true = np.append(y_true,targets.cpu().numpy())\n",
    "        acc += (output.argmax(dim=1) == targets).sum().item()\n",
    "\n",
    "#输出在测试集上的准确率\n",
    "print(f\"Acc: {acc / len(test_data_loader):.2f}\")"
   ]
  },
  {
   "cell_type": "code",
   "execution_count": 47,
   "id": "56c25f46",
   "metadata": {},
   "outputs": [],
   "source": [
    "from sklearn.metrics import accuracy_score, f1_score"
   ]
  },
  {
   "cell_type": "code",
   "execution_count": 49,
   "id": "cbb767c0",
   "metadata": {},
   "outputs": [
    {
     "data": {
      "text/plain": [
       "0.18784838652529542"
      ]
     },
     "execution_count": 49,
     "metadata": {},
     "output_type": "execute_result"
    }
   ],
   "source": [
    "# 该方法最简单，直接将不同类别的评估指标（Precision/ Recall/ F1-score）加起来求平均，给所有类别相同的权重。\n",
    "# 该方法能够平等看待每个类别，但是它的值会受稀有类别影响。\n",
    "f1_score(y_true,y_pred,average='macro')"
   ]
  },
  {
   "cell_type": "code",
   "execution_count": 50,
   "id": "b6f9cc1a",
   "metadata": {},
   "outputs": [
    {
     "data": {
      "text/plain": [
       "0.40249235248216314"
      ]
     },
     "execution_count": 50,
     "metadata": {},
     "output_type": "execute_result"
    }
   ],
   "source": [
    "#该方法给不同类别不同权重（权重根据该类别的真实分布比例确定），每个类别乘权重后再进行相加。\n",
    "# 该方法考虑了类别不平衡情况，它的值更容易受到常见类（majority class）的影响。\n",
    "f1_score(y_true,y_pred,average='weighted') "
   ]
  },
  {
   "cell_type": "code",
   "execution_count": 56,
   "id": "35603b81",
   "metadata": {},
   "outputs": [
    {
     "data": {
      "text/plain": [
       "0.4357894736842105"
      ]
     },
     "execution_count": 56,
     "metadata": {},
     "output_type": "execute_result"
    }
   ],
   "source": [
    "#该方法把每个类别的TP, FP, FN先相加之后，在根据二分类的公式进行计算。\n",
    "f1_score(y_true,y_pred,average='micro')"
   ]
  },
  {
   "cell_type": "code",
   "execution_count": 52,
   "id": "cc35a13b",
   "metadata": {},
   "outputs": [],
   "source": []
  },
  {
   "cell_type": "code",
   "execution_count": 55,
   "id": "b02f4c4d",
   "metadata": {},
   "outputs": [
    {
     "data": {
      "image/png": "[encoded data removed]",
      "text/plain": [
       "<Figure size 640x480 with 1 Axes>"
      ]
     },
     "metadata": {},
     "output_type": "display_data"
    }
   ],
   "source": [
    "import matplotlib as plt\n",
    "plt.figure(1)\n",
    "plt.hist(y_true,bins=119)\n",
    "plt.show() #可以看到类别分布很不均匀"
   ]
  },
  {
   "cell_type": "markdown",
   "id": "8b869147",
   "metadata": {},
   "source": [
    "# LSTM"
   ]
  },
  {
   "cell_type": "code",
   "execution_count": 41,
   "id": "a431ad35",
   "metadata": {
    "ExecuteTime": {
     "end_time": "2023-10-20T02:48:20.625524400Z",
     "start_time": "2023-10-20T02:48:18.225166400Z"
    }
   },
   "outputs": [],
   "source": [
    "import torch\n",
    "from torch import nn, optim\n",
    "from torch.nn import functional as F\n",
    "from torch.utils.data import Dataset, DataLoader\n",
    "from torch.nn.utils.rnn import pad_sequence, pack_padded_sequence\n",
    "from collections import defaultdict\n",
    "from vocab import Vocab\n",
    "from utils import load_sentence\n",
    "\n",
    "#tqdm是一个Python模块，能以进度条的方式显式迭代的进度\n",
    "from tqdm.auto import tqdm\n",
    "\n",
    "class LstmDataset(Dataset):\n",
    "    def __init__(self, data):\n",
    "        self.data = data\n",
    "    def __len__(self):\n",
    "        return len(self.data)\n",
    "    def __getitem__(self, i):\n",
    "        return self.data[i]\n",
    "\n",
    "def collate_fn(examples):\n",
    "    # 获得每个序列的长度\n",
    "    lengths = torch.tensor([len(ex[0]) for ex in examples])\n",
    "    inputs = [torch.tensor(ex[0]) for ex in examples]\n",
    "    targets = torch.tensor([ex[1] for ex in examples], dtype=torch.long)\n",
    "    # 对batch内的样本进行padding，使其具有相同长度\n",
    "    inputs = pad_sequence(inputs, batch_first=True)\n",
    "    return inputs, lengths, targets"
   ]
  },
  {
   "cell_type": "code",
   "execution_count": 42,
   "id": "e2be8b88",
   "metadata": {
    "ExecuteTime": {
     "end_time": "2023-10-20T02:48:47.108957700Z",
     "start_time": "2023-10-20T02:48:28.341177200Z"
    }
   },
   "outputs": [],
   "source": [
    "batch_size = 32\n",
    "#加载数据\n",
    "\n",
    "#train_data, test_data, vocab = load_sentence()\n",
    "train_dataset = LstmDataset(train_data)\n",
    "test_dataset = LstmDataset(test_data)\n",
    "train_data_loader = DataLoader(train_dataset, batch_size=batch_size, collate_fn=collate_fn, shuffle=True)\n",
    "test_data_loader = DataLoader(test_dataset, batch_size=1, collate_fn=collate_fn, shuffle=False)\n"
   ]
  },
  {
   "cell_type": "code",
   "execution_count": 43,
   "id": "a85ecbee",
   "metadata": {
    "ExecuteTime": {
     "end_time": "2023-10-20T02:48:52.418325700Z",
     "start_time": "2023-10-20T02:48:52.387079200Z"
    }
   },
   "outputs": [],
   "source": [
    "class LSTM(nn.Module):\n",
    "    def __init__(self, vocab_size, embedding_dim, hidden_dim, num_class):\n",
    "        super(LSTM, self).__init__()\n",
    "        self.embeddings = nn.Embedding(vocab_size, embedding_dim)\n",
    "        self.lstm = nn.LSTM(embedding_dim, hidden_dim, batch_first=True)\n",
    "        self.output = nn.Linear(hidden_dim, num_class)\n",
    "\n",
    "    def forward(self, inputs, lengths):\n",
    "        embeddings = self.embeddings(inputs)\n",
    "        # pack_padded_sequence函数将变长序列打包\n",
    "        # lengths.cpu()注意这里改为cpu，pytorch自身的问题\n",
    "        x_pack = pack_padded_sequence(embeddings, lengths.cpu(), batch_first=True, enforce_sorted=False)\n",
    "        hidden, (hn, cn) = self.lstm(x_pack)\n",
    "        outputs = self.output(hn[-1])\n",
    "        log_probs = F.log_softmax(outputs, dim=-1)\n",
    "        return log_probs"
   ]
  },
  {
   "cell_type": "code",
   "execution_count": 45,
   "id": "a7877866",
   "metadata": {
    "ExecuteTime": {
     "end_time": "2023-10-20T02:57:30.977120300Z",
     "start_time": "2023-10-20T02:56:39.530838Z"
    }
   },
   "outputs": [
    {
     "data": {
      "application/vnd.jupyter.widget-view+json": {
       "model_id": "394c86be05494189ad4eed8b407505ae",
       "version_major": 2,
       "version_minor": 0
      },
      "text/plain": [
       "Training Epoch 0:   0%|          | 0/313 [00:00<?, ?it/s]"
      ]
     },
     "metadata": {},
     "output_type": "display_data"
    },
    {
     "name": "stdout",
     "output_type": "stream",
     "text": [
      "Loss: 1246.79\n"
     ]
    }
   ],
   "source": [
    "embedding_dim = 128\n",
    "hidden_dim = 256\n",
    "num_class = 119\n",
    "batch_size = 32\n",
    "num_epoch = 1 #5\n",
    "#加载模型\n",
    "device = torch.device('cuda' if torch.cuda.is_available() else 'cpu')\n",
    "model = LSTM(len(vocab), embedding_dim, hidden_dim, num_class)\n",
    "model.to(device) #将模型加载到GPU中\n",
    "\n",
    "#训练过程\n",
    "nll_loss = nn.NLLLoss()\n",
    "optimizer = optim.Adam(model.parameters(), lr=0.001) #使用Adam优化器\n",
    "\n",
    "model.train()\n",
    "for epoch in range(num_epoch):\n",
    "    total_loss = 0\n",
    "    for batch in tqdm(train_data_loader, desc=f\"Training Epoch {epoch}\"):\n",
    "        inputs, lengths, targets = [x.to(device) for x in batch]\n",
    "        log_probs = model(inputs, lengths)\n",
    "        loss = nll_loss(log_probs, targets)\n",
    "        optimizer.zero_grad()\n",
    "        loss.backward()\n",
    "        optimizer.step()\n",
    "        total_loss += loss.item()\n",
    "    print(f\"Loss: {total_loss:.2f}\")"
   ]
  },
  {
   "cell_type": "code",
   "execution_count": 46,
   "id": "46f93b15",
   "metadata": {
    "ExecuteTime": {
     "end_time": "2023-10-20T02:56:18.237270400Z",
     "start_time": "2023-10-20T02:55:55.682785900Z"
    }
   },
   "outputs": [
    {
     "data": {
      "application/vnd.jupyter.widget-view+json": {
       "model_id": "c35639566922472ea2c1cb5899fca333",
       "version_major": 2,
       "version_minor": 0
      },
      "text/plain": [
       "Testing:   0%|          | 0/1425 [00:00<?, ?it/s]"
      ]
     },
     "metadata": {},
     "output_type": "display_data"
    },
    {
     "name": "stdout",
     "output_type": "stream",
     "text": [
      "Acc: 0.16\n",
      "f1_macro:0.00\n",
      "f1_weighted:0.05\n",
      "f1_macro:0.00\n"
     ]
    }
   ],
   "source": [
    "#测试过程\n",
    "from sklearn.metrics import accuracy_score, f1_score\n",
    "import numpy as np\n",
    "acc = 0\n",
    "y_pred = np.array([]).astype(int)  #存储真实的target\n",
    "y_true = np.array([]).astype(int)  #存储预测出来的target\n",
    "for batch in tqdm(test_data_loader, desc=f\"Testing\"):\n",
    "    inputs, lengths, targets = [x.to(device) for x in batch]\n",
    "    #inputs, lengths, targets = [x for x in batch]\n",
    "    with torch.no_grad():\n",
    "        output = model(inputs, lengths)\n",
    "        y_pred = np.append(y_pred,output.argmax(dim=1).cpu().numpy()) #要先把数据放在cpu上，才能转成numpy\n",
    "        y_true = np.append(y_true,targets.cpu().numpy())\n",
    "        acc += (output.argmax(dim=1) == targets).sum().item()\n",
    "\n",
    "#输出在测试集上的准确率\n",
    "print(f\"Acc: {acc / len(test_data_loader):.2f}\")\n",
    "print(f\"f1_macro:{f1_score(y_true,y_pred,average='macro'):.2f}\")\n",
    "print(f\"f1_weighted:{f1_score(y_true,y_pred,average='weighted'):.2f}\")\n",
    "print(f\"f1_macro:{f1_score(y_true,y_pred,average='macro'):.2f}\")"
   ]
  },
  {
   "cell_type": "markdown",
   "id": "d9d746940ed53bf",
   "metadata": {},
   "source": [
    "# Transformer"
   ]
  },
  {
   "cell_type": "code",
   "execution_count": 1,
   "id": "6b35b510cbc5fcf4",
   "metadata": {
    "ExecuteTime": {
     "end_time": "2023-10-20T03:26:30.658513400Z",
     "start_time": "2023-10-20T03:26:10.098733800Z"
    }
   },
   "outputs": [
    {
     "name": "stderr",
     "output_type": "stream",
     "text": [
      "Building prefix dict from the default dictionary ...\n",
      "Loading model from cache C:\\Users\\ASUS\\AppData\\Local\\Temp\\jieba.cache\n",
      "Loading model cost 0.653 seconds.\n",
      "Prefix dict has been built successfully.\n"
     ]
    }
   ],
   "source": [
    "import math\n",
    "import torch\n",
    "from torch import nn, optim\n",
    "from torch.nn import functional as F\n",
    "from torch.utils.data import Dataset, DataLoader\n",
    "from torch.nn.utils.rnn import pad_sequence, pack_padded_sequence\n",
    "from collections import defaultdict\n",
    "from vocab import Vocab\n",
    "from utils import load_sentence, length_to_mask\n",
    "from sklearn.metrics import accuracy_score, f1_score\n",
    "import numpy as np\n",
    "\n",
    "# tqdm是一个Pyth模块，能以进度条的方式显式迭代的进度\n",
    "from tqdm.auto import tqdm\n",
    "\n",
    "class TransformerDataset(Dataset):\n",
    "    def __init__(self, data):\n",
    "        self.data = data\n",
    "    def __len__(self):\n",
    "        return len(self.data)\n",
    "    def __getitem__(self, i):\n",
    "        return self.data[i]\n",
    "\n",
    "def collate_fn(examples):\n",
    "    lengths = torch.tensor([len(ex[0]) for ex in examples])\n",
    "    inputs = [torch.tensor(ex[0]) for ex in examples]\n",
    "    targets = torch.tensor([ex[1] for ex in examples], dtype=torch.long)\n",
    "    # 对batch内的样本进行padding，使其具有相同长度\n",
    "    inputs = pad_sequence(inputs, batch_first=True)\n",
    "    return inputs, lengths, targets\n",
    "\n",
    "batch_size = 32\n",
    "# 加载数据\n",
    "train_data, test_data, vocab = load_sentence()\n",
    "train_dataset = TransformerDataset(train_data)\n",
    "test_dataset = TransformerDataset(test_data)\n",
    "train_data_loader = DataLoader(train_dataset, batch_size=batch_size, collate_fn=collate_fn, shuffle=True)\n",
    "test_data_loader = DataLoader(test_dataset, batch_size=1, collate_fn=collate_fn, shuffle=False)"
   ]
  },
  {
   "cell_type": "code",
   "execution_count": 40,
   "id": "9db5b7ae",
   "metadata": {},
   "outputs": [
    {
     "data": {
      "text/plain": [
       "torch.Size([32, 483])"
      ]
     },
     "execution_count": 40,
     "metadata": {},
     "output_type": "execute_result"
    }
   ],
   "source": [
    "dataiter = iter(train_data_loader)\n",
    "a = dataiter.next()\n",
    "a[0].shape"
   ]
  },
  {
   "cell_type": "code",
   "execution_count": 14,
   "id": "74526f23",
   "metadata": {},
   "outputs": [],
   "source": [
    "class PositionalEncoding(nn.Module):\n",
    "    def __init__(self, d_model, dropout=0.1, max_len=512):\n",
    "        super(PositionalEncoding, self).__init__()\n",
    "\n",
    "        pe = torch.zeros(max_len, d_model)\n",
    "        position = torch.arange(0, max_len, dtype=torch.float).unsqueeze(1)\n",
    "        div_term = torch.exp(torch.arange(0, d_model, 2).float() * (-math.log(10000.0) / d_model))\n",
    "        pe[:, 0::2] = torch.sin(position * div_term)  # 对偶数位置编码\n",
    "        pe[:, 1::2] = torch.cos(position * div_term)  # 对奇数位置编码\n",
    "        pe = pe.unsqueeze(0).transpose(0, 1)\n",
    "        # pe是一个tensor对象，它被注册为模型的缓冲区，并且被命名为pe。这意味着在模型中可以通过self.pe来访问和使用这个缓冲区。缓冲区是一种特殊的tensor，它可以与模型的参数一起保存和加载，并且在模型的前向传播过程中不会被更新。即不对位置编码层求梯度。\n",
    "        self.register_buffer('pe', pe)\n",
    "\n",
    "    def forward(self, x):\n",
    "        x = x + self.pe[:x.size(0), :] #输入的词向量与位置编码相加\n",
    "        return x\n"
   ]
  },
  {
   "cell_type": "code",
   "execution_count": 41,
   "id": "bb48cdeb",
   "metadata": {},
   "outputs": [
    {
     "data": {
      "text/plain": [
       "torch.Size([512, 1, 128])"
      ]
     },
     "execution_count": 41,
     "metadata": {},
     "output_type": "execute_result"
    }
   ],
   "source": [
    "positionEncoding = PositionalEncoding(128,0.1,512)\n",
    "positionEncoding.pe.size()"
   ]
  },
  {
   "cell_type": "code",
   "execution_count": 17,
   "id": "3a3749da",
   "metadata": {},
   "outputs": [
    {
     "data": {
      "text/plain": [
       "torch.Size([342, 1, 128])"
      ]
     },
     "execution_count": 17,
     "metadata": {},
     "output_type": "execute_result"
    }
   ],
   "source": [
    "positionEncoding.pe[:342,:].size()"
   ]
  },
  {
   "cell_type": "code",
   "execution_count": null,
   "id": "8ecbed65",
   "metadata": {},
   "outputs": [],
   "source": []
  },
  {
   "cell_type": "code",
   "execution_count": null,
   "id": "8d14106e",
   "metadata": {},
   "outputs": [],
   "source": []
  },
  {
   "cell_type": "code",
   "execution_count": null,
   "id": "9c9a56ba",
   "metadata": {},
   "outputs": [],
   "source": []
  },
  {
   "cell_type": "code",
   "execution_count": null,
   "id": "735b5486",
   "metadata": {},
   "outputs": [],
   "source": []
  },
  {
   "cell_type": "code",
   "execution_count": 56,
   "id": "ad1571fc7b718d47",
   "metadata": {
    "ExecuteTime": {
     "end_time": "2023-10-20T03:29:31.067681700Z",
     "start_time": "2023-10-20T03:29:29.990459500Z"
    }
   },
   "outputs": [],
   "source": [
    "class PositionalEncoding(nn.Module):\n",
    "    def __init__(self, d_model, dropout=0.1, max_len=512):\n",
    "        super(PositionalEncoding, self).__init__()\n",
    "\n",
    "        pe = torch.zeros(max_len, d_model)\n",
    "        position = torch.arange(0, max_len, dtype=torch.float).unsqueeze(1)\n",
    "        div_term = torch.exp(torch.arange(0, d_model, 2).float() * (-math.log(10000.0) / d_model))\n",
    "        pe[:, 0::2] = torch.sin(position * div_term)  # 对偶数位置编码\n",
    "        pe[:, 1::2] = torch.cos(position * div_term)  # 对奇数位置编码\n",
    "        pe = pe.unsqueeze(0).transpose(0, 1)\n",
    "        # pe是一个tensor对象，它被注册为模型的缓冲区，并且被命名为pe。这意味着在模型中可以通过self.pe来访问和使用这个缓冲区。缓冲区是一种特殊的tensor，它可以与模型的参数一起保存和加载，并且在模型的前向传播过程中不会被更新。即不对位置编码层求梯度。\n",
    "        self.register_buffer('pe', pe)\n",
    "\n",
    "    def forward(self, x):\n",
    "        #print(x.size())\n",
    "        #print(self.pe.size())\n",
    "        #print(self.pe[:x.size(0), :].size())\n",
    "        x = x + self.pe[:x.size(0), :] #输入的词向量与位置编码相加\n",
    "        return x\n",
    "\n",
    "class Transformer(nn.Module):\n",
    "    def __init__(self, vocab_size, embedding_dim, hidden_dim, num_class,\n",
    "                 dim_feedforward=512, num_head=2, num_layers=2, dropout=0.1, max_len=3268, activation: str = \"relu\"):\n",
    "        super(Transformer, self).__init__()\n",
    "        # 词嵌入层\n",
    "        self.embedding_dim = embedding_dim\n",
    "        self.embeddings = nn.Embedding(vocab_size, embedding_dim)\n",
    "        self.position_embedding = PositionalEncoding(embedding_dim, dropout, max_len)\n",
    "        # 编码层：使用TransformerEncoder\n",
    "        encoder_layer = nn.TransformerEncoderLayer(hidden_dim, num_head, dim_feedforward, dropout, activation)\n",
    "        self.transformer = nn.TransformerEncoder(encoder_layer, num_layers)\n",
    "        # 输出层\n",
    "        self.output = nn.Linear(hidden_dim, num_class)\n",
    "\n",
    "\n",
    "    def forward(self, inputs, lengths):\n",
    "        #与LSTM处理情况一样，输入数据的第1维是批次，需要转换为TransformerEncoder，所需的第1维是长度，第2维是批次的形状\n",
    "        inputs = torch.transpose(inputs, 0, 1)\n",
    "        hidden_states = self.embeddings(inputs)\n",
    "        hidden_states = self.position_embedding(hidden_states) \n",
    "        attention_mask = length_to_mask(lengths) == False  #根据批次中每个序列的长度生成Mask矩阵\n",
    "        hidden_states = self.transformer(hidden_states, src_key_padding_mask=attention_mask)\n",
    "        hidden_states = hidden_states[0, :, :] #第一个隐含层（代表整个序列）\n",
    "        output = self.output(hidden_states)#取第一个标记的输出结果作为分类层的输入\n",
    "        log_probs = F.log_softmax(output, dim=1)\n",
    "        return log_probs\n"
   ]
  },
  {
   "cell_type": "code",
   "execution_count": 61,
   "id": "2ca09629589875b7",
   "metadata": {
    "ExecuteTime": {
     "end_time": "2023-10-20T03:31:04.888454800Z",
     "start_time": "2023-10-20T03:31:04.616134300Z"
    }
   },
   "outputs": [
    {
     "ename": "RuntimeError",
     "evalue": "CUDA out of memory. Tried to allocate 38.00 MiB (GPU 0; 2.00 GiB total capacity; 863.74 MiB already allocated; 13.06 MiB free; 894.00 MiB reserved in total by PyTorch)",
     "output_type": "error",
     "traceback": [
      "\u001b[1;31m---------------------------------------------------------------------------\u001b[0m",
      "\u001b[1;31mRuntimeError\u001b[0m                              Traceback (most recent call last)",
      "Cell \u001b[1;32mIn[61], line 11\u001b[0m\n\u001b[0;32m      9\u001b[0m device \u001b[38;5;241m=\u001b[39m torch\u001b[38;5;241m.\u001b[39mdevice(\u001b[38;5;124m'\u001b[39m\u001b[38;5;124mcuda\u001b[39m\u001b[38;5;124m'\u001b[39m \u001b[38;5;28;01mif\u001b[39;00m torch\u001b[38;5;241m.\u001b[39mcuda\u001b[38;5;241m.\u001b[39mis_available() \u001b[38;5;28;01melse\u001b[39;00m \u001b[38;5;124m'\u001b[39m\u001b[38;5;124mcpu\u001b[39m\u001b[38;5;124m'\u001b[39m)\n\u001b[0;32m     10\u001b[0m model \u001b[38;5;241m=\u001b[39m Transformer(\u001b[38;5;28mlen\u001b[39m(vocab), embedding_dim, hidden_dim, num_class)\n\u001b[1;32m---> 11\u001b[0m \u001b[43mmodel\u001b[49m\u001b[38;5;241;43m.\u001b[39;49m\u001b[43mto\u001b[49m\u001b[43m(\u001b[49m\u001b[43mdevice\u001b[49m\u001b[43m)\u001b[49m \u001b[38;5;66;03m# 将模型加载到GPU中（如果已经正确安装）\u001b[39;00m\n\u001b[0;32m     13\u001b[0m \u001b[38;5;66;03m# 训练过程\u001b[39;00m\n\u001b[0;32m     14\u001b[0m nll_loss \u001b[38;5;241m=\u001b[39m nn\u001b[38;5;241m.\u001b[39mNLLLoss()\n",
      "File \u001b[1;32mD:\\Anaconda3\\envs\\pytorch1.7.1\\lib\\site-packages\\torch\\nn\\modules\\module.py:612\u001b[0m, in \u001b[0;36mModule.to\u001b[1;34m(self, *args, **kwargs)\u001b[0m\n\u001b[0;32m    609\u001b[0m         \u001b[38;5;28;01mreturn\u001b[39;00m t\u001b[38;5;241m.\u001b[39mto(device, dtype \u001b[38;5;28;01mif\u001b[39;00m t\u001b[38;5;241m.\u001b[39mis_floating_point() \u001b[38;5;28;01melse\u001b[39;00m \u001b[38;5;28;01mNone\u001b[39;00m, non_blocking, memory_format\u001b[38;5;241m=\u001b[39mconvert_to_format)\n\u001b[0;32m    610\u001b[0m     \u001b[38;5;28;01mreturn\u001b[39;00m t\u001b[38;5;241m.\u001b[39mto(device, dtype \u001b[38;5;28;01mif\u001b[39;00m t\u001b[38;5;241m.\u001b[39mis_floating_point() \u001b[38;5;28;01melse\u001b[39;00m \u001b[38;5;28;01mNone\u001b[39;00m, non_blocking)\n\u001b[1;32m--> 612\u001b[0m \u001b[38;5;28;01mreturn\u001b[39;00m \u001b[38;5;28;43mself\u001b[39;49m\u001b[38;5;241;43m.\u001b[39;49m\u001b[43m_apply\u001b[49m\u001b[43m(\u001b[49m\u001b[43mconvert\u001b[49m\u001b[43m)\u001b[49m\n",
      "File \u001b[1;32mD:\\Anaconda3\\envs\\pytorch1.7.1\\lib\\site-packages\\torch\\nn\\modules\\module.py:359\u001b[0m, in \u001b[0;36mModule._apply\u001b[1;34m(self, fn)\u001b[0m\n\u001b[0;32m    357\u001b[0m \u001b[38;5;28;01mdef\u001b[39;00m \u001b[38;5;21m_apply\u001b[39m(\u001b[38;5;28mself\u001b[39m, fn):\n\u001b[0;32m    358\u001b[0m     \u001b[38;5;28;01mfor\u001b[39;00m module \u001b[38;5;129;01min\u001b[39;00m \u001b[38;5;28mself\u001b[39m\u001b[38;5;241m.\u001b[39mchildren():\n\u001b[1;32m--> 359\u001b[0m         \u001b[43mmodule\u001b[49m\u001b[38;5;241;43m.\u001b[39;49m\u001b[43m_apply\u001b[49m\u001b[43m(\u001b[49m\u001b[43mfn\u001b[49m\u001b[43m)\u001b[49m\n\u001b[0;32m    361\u001b[0m     \u001b[38;5;28;01mdef\u001b[39;00m \u001b[38;5;21mcompute_should_use_set_data\u001b[39m(tensor, tensor_applied):\n\u001b[0;32m    362\u001b[0m         \u001b[38;5;28;01mif\u001b[39;00m torch\u001b[38;5;241m.\u001b[39m_has_compatible_shallow_copy_type(tensor, tensor_applied):\n\u001b[0;32m    363\u001b[0m             \u001b[38;5;66;03m# If the new tensor has compatible tensor type as the existing tensor,\u001b[39;00m\n\u001b[0;32m    364\u001b[0m             \u001b[38;5;66;03m# the current behavior is to change the tensor in-place using `.data =`,\u001b[39;00m\n\u001b[1;32m   (...)\u001b[0m\n\u001b[0;32m    369\u001b[0m             \u001b[38;5;66;03m# global flag to let the user control whether they want the future\u001b[39;00m\n\u001b[0;32m    370\u001b[0m             \u001b[38;5;66;03m# behavior of overwriting the existing tensor or not.\u001b[39;00m\n",
      "File \u001b[1;32mD:\\Anaconda3\\envs\\pytorch1.7.1\\lib\\site-packages\\torch\\nn\\modules\\module.py:381\u001b[0m, in \u001b[0;36mModule._apply\u001b[1;34m(self, fn)\u001b[0m\n\u001b[0;32m    376\u001b[0m \u001b[38;5;28;01mif\u001b[39;00m param \u001b[38;5;129;01mis\u001b[39;00m \u001b[38;5;129;01mnot\u001b[39;00m \u001b[38;5;28;01mNone\u001b[39;00m:\n\u001b[0;32m    377\u001b[0m     \u001b[38;5;66;03m# Tensors stored in modules are graph leaves, and we don't want to\u001b[39;00m\n\u001b[0;32m    378\u001b[0m     \u001b[38;5;66;03m# track autograd history of `param_applied`, so we have to use\u001b[39;00m\n\u001b[0;32m    379\u001b[0m     \u001b[38;5;66;03m# `with torch.no_grad():`\u001b[39;00m\n\u001b[0;32m    380\u001b[0m     \u001b[38;5;28;01mwith\u001b[39;00m torch\u001b[38;5;241m.\u001b[39mno_grad():\n\u001b[1;32m--> 381\u001b[0m         param_applied \u001b[38;5;241m=\u001b[39m \u001b[43mfn\u001b[49m\u001b[43m(\u001b[49m\u001b[43mparam\u001b[49m\u001b[43m)\u001b[49m\n\u001b[0;32m    382\u001b[0m     should_use_set_data \u001b[38;5;241m=\u001b[39m compute_should_use_set_data(param, param_applied)\n\u001b[0;32m    383\u001b[0m     \u001b[38;5;28;01mif\u001b[39;00m should_use_set_data:\n",
      "File \u001b[1;32mD:\\Anaconda3\\envs\\pytorch1.7.1\\lib\\site-packages\\torch\\nn\\modules\\module.py:610\u001b[0m, in \u001b[0;36mModule.to.<locals>.convert\u001b[1;34m(t)\u001b[0m\n\u001b[0;32m    608\u001b[0m \u001b[38;5;28;01mif\u001b[39;00m convert_to_format \u001b[38;5;129;01mis\u001b[39;00m \u001b[38;5;129;01mnot\u001b[39;00m \u001b[38;5;28;01mNone\u001b[39;00m \u001b[38;5;129;01mand\u001b[39;00m t\u001b[38;5;241m.\u001b[39mdim() \u001b[38;5;241m==\u001b[39m \u001b[38;5;241m4\u001b[39m:\n\u001b[0;32m    609\u001b[0m     \u001b[38;5;28;01mreturn\u001b[39;00m t\u001b[38;5;241m.\u001b[39mto(device, dtype \u001b[38;5;28;01mif\u001b[39;00m t\u001b[38;5;241m.\u001b[39mis_floating_point() \u001b[38;5;28;01melse\u001b[39;00m \u001b[38;5;28;01mNone\u001b[39;00m, non_blocking, memory_format\u001b[38;5;241m=\u001b[39mconvert_to_format)\n\u001b[1;32m--> 610\u001b[0m \u001b[38;5;28;01mreturn\u001b[39;00m \u001b[43mt\u001b[49m\u001b[38;5;241;43m.\u001b[39;49m\u001b[43mto\u001b[49m\u001b[43m(\u001b[49m\u001b[43mdevice\u001b[49m\u001b[43m,\u001b[49m\u001b[43m \u001b[49m\u001b[43mdtype\u001b[49m\u001b[43m \u001b[49m\u001b[38;5;28;43;01mif\u001b[39;49;00m\u001b[43m \u001b[49m\u001b[43mt\u001b[49m\u001b[38;5;241;43m.\u001b[39;49m\u001b[43mis_floating_point\u001b[49m\u001b[43m(\u001b[49m\u001b[43m)\u001b[49m\u001b[43m \u001b[49m\u001b[38;5;28;43;01melse\u001b[39;49;00m\u001b[43m \u001b[49m\u001b[38;5;28;43;01mNone\u001b[39;49;00m\u001b[43m,\u001b[49m\u001b[43m \u001b[49m\u001b[43mnon_blocking\u001b[49m\u001b[43m)\u001b[49m\n",
      "\u001b[1;31mRuntimeError\u001b[0m: CUDA out of memory. Tried to allocate 38.00 MiB (GPU 0; 2.00 GiB total capacity; 863.74 MiB already allocated; 13.06 MiB free; 894.00 MiB reserved in total by PyTorch)"
     ]
    }
   ],
   "source": [
    "import torch, gc\n",
    "embedding_dim = 128\n",
    "hidden_dim = 128\n",
    "num_class = 119\n",
    "batch_size = 1 #32\n",
    "num_epoch = 1\n",
    "\n",
    "# 加载模型\n",
    "device = torch.device('cuda' if torch.cuda.is_available() else 'cpu')\n",
    "model = Transformer(len(vocab), embedding_dim, hidden_dim, num_class)\n",
    "model.to(device) # 将模型加载到GPU中（如果已经正确安装）\n",
    "\n",
    "# 训练过程\n",
    "nll_loss = nn.NLLLoss()\n",
    "optimizer = optim.Adam(model.parameters(), lr=0.001) # 使用Adam优化器\n",
    "\n",
    "model.train()\n",
    "for epoch in range(num_epoch):\n",
    "    total_loss = 0\n",
    "    for batch in tqdm(train_data_loader, desc=f\"Training Epoch {epoch}\"):\n",
    "        inputs, lengths, targets = [x.to(device) for x in batch]\n",
    "        #inputs, lengths, targets = [x for x in batch]\n",
    "        \n",
    "        gc.collect()\n",
    "        torch.cuda.empty_cache()\n",
    "        \n",
    "        log_probs = model(inputs, lengths)\n",
    "        loss = nll_loss(log_probs, targets)\n",
    "        optimizer.zero_grad()\n",
    "        loss.backward()\n",
    "        optimizer.step()\n",
    "        total_loss += loss.item()\n",
    "    print(f\"Loss: {total_loss:.2f}\")"
   ]
  },
  {
   "cell_type": "code",
   "execution_count": null,
   "id": "492922c81a2f533a",
   "metadata": {},
   "outputs": [],
   "source": []
  }
 ],
 "metadata": {
  "kernelspec": {
   "display_name": "pytorch1.7.1",
   "language": "python",
   "name": "pytorch1.7.1"
  },
  "language_info": {
   "codemirror_mode": {
    "name": "ipython",
    "version": 3
   },
   "file_extension": ".py",
   "mimetype": "text/x-python",
   "name": "python",
   "nbconvert_exporter": "python",
   "pygments_lexer": "ipython3",
   "version": "3.8.5"
  },
  "toc": {
   "base_numbering": 1,
   "nav_menu": {},
   "number_sections": true,
   "sideBar": true,
   "skip_h1_title": false,
   "title_cell": "Table of Contents",
   "title_sidebar": "Contents",
   "toc_cell": false,
   "toc_position": {
    "height": "calc(100% - 180px)",
    "left": "10px",
    "top": "150px",
    "width": "165px"
   },
   "toc_section_display": true,
   "toc_window_display": true
  },
  "varInspector": {
   "cols": {
    "lenName": 16,
    "lenType": 16,
    "lenVar": 40
   },
   "kernels_config": {
    "python": {
     "delete_cmd_postfix": "",
     "delete_cmd_prefix": "del ",
     "library": "var_list.py",
     "varRefreshCmd": "print(var_dic_list())"
    },
    "r": {
     "delete_cmd_postfix": ") ",
     "delete_cmd_prefix": "rm(",
     "library": "var_list.r",
     "varRefreshCmd": "cat(var_dic_list()) "
    }
   },
   "types_to_exclude": [
    "module",
    "function",
    "builtin_function_or_method",
    "instance",
    "_Feature"
   ],
   "window_display": false
  }
 },
 "nbformat": 4,
 "nbformat_minor": 5
}
